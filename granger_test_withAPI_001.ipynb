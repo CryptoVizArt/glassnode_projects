{
 "cells": [
  {
   "metadata": {},
   "cell_type": "markdown",
   "source": "Import libraries and set up API key",
   "id": "32b3d4bb0b391ac7"
  },
  {
   "metadata": {
    "ExecuteTime": {
     "end_time": "2024-06-29T08:09:31.615339Z",
     "start_time": "2024-06-29T08:09:31.612937Z"
    }
   },
   "cell_type": "code",
   "source": [
    "import json\n",
    "import requests\n",
    "import pandas as pd\n",
    "from datetime import datetime, timedelta\n",
    "import numpy as np\n",
    "import matplotlib.pyplot as plt\n",
    "from statsmodels.tsa.stattools import adfuller, grangercausalitytests\n",
    "from statsmodels.tsa.ar_model import AutoReg\n",
    "from statsmodels.tools.eval_measures import aic, bic\n",
    "\n",
    "# Insert your API key here\n",
    "API_KEY = '2fvIsbHL7chqQIfpyhaUzMwjy47'\n",
    "num_data_points = 100\n",
    "start_date_str = '2023-01-01'"
   ],
   "id": "5be5299b4525f88b",
   "outputs": [],
   "execution_count": 60
  },
  {
   "metadata": {},
   "cell_type": "markdown",
   "source": "Get user input",
   "id": "3e10c400f4d65538"
  },
  {
   "metadata": {
    "ExecuteTime": {
     "end_time": "2024-06-29T08:09:31.642054Z",
     "start_time": "2024-06-29T08:09:31.639708Z"
    }
   },
   "cell_type": "code",
   "source": [
    "# Insert your API key here\n",
    "#API_KEY = str(input(\"Insert your API key here\"))\n",
    "#Ask user for input\n",
    "#num_data_points = int(input(\"How many data points do you want to load? \"))\n",
    "#start_date = input(\"Enter the starting date (YYYY-MM-DD): \")\n",
    "\n",
    "# Convert start date to Unix timestamp\n",
    "start_datetime = datetime.strptime(start_date_str, \"%Y-%m-%d\")\n",
    "start_timestamp = int(start_datetime.timestamp())\n",
    "\n",
    "# Calculate end date and convert to Unix timestamp\n",
    "end_datetime = start_datetime + timedelta(days=num_data_points)\n",
    "end_timestamp = int(end_datetime.timestamp())\n",
    "\n",
    "print(f\"Start timestamp: {start_timestamp}\")\n",
    "print(f\"End timestamp: {end_timestamp}\")"
   ],
   "id": "c53b6e303adb118b",
   "outputs": [
    {
     "name": "stdout",
     "output_type": "stream",
     "text": [
      "Start timestamp: 1672543800\n",
      "End timestamp: 1681180200\n"
     ]
    }
   ],
   "execution_count": 61
  },
  {
   "metadata": {},
   "cell_type": "markdown",
   "source": "Define the function to fetch data",
   "id": "1a0db1732d5c0af7"
  },
  {
   "metadata": {
    "ExecuteTime": {
     "end_time": "2024-06-29T08:09:31.645291Z",
     "start_time": "2024-06-29T08:09:31.643174Z"
    }
   },
   "cell_type": "code",
   "source": [
    "def fetch_glassnode_data(endpoint, asset='BTC'):\n",
    "    url = f'https://api.glassnode.com/v1/metrics/{endpoint}'\n",
    "    params = {\n",
    "        'a': asset,\n",
    "        'api_key': API_KEY,\n",
    "        's': start_timestamp,\n",
    "        'u': end_timestamp,\n",
    "        'i': '24h'  # daily interval\n",
    "    }\n",
    "    response = requests.get(url, params=params)\n",
    "    if response.status_code == 200:\n",
    "        df = pd.read_json(response.text, convert_dates=['t'])\n",
    "        column_name = endpoint.split('/')[-1]\n",
    "        df = df.rename(columns={'t': 'timestamp', 'v': column_name})\n",
    "        return df.set_index('timestamp')\n",
    "    else:\n",
    "        print(f\"Error fetching data from {endpoint}: {response.status_code}\")\n",
    "        return pd.DataFrame()"
   ],
   "id": "d943b602825f61b6",
   "outputs": [],
   "execution_count": 62
  },
  {
   "metadata": {},
   "cell_type": "markdown",
   "source": "Fetch price data",
   "id": "2f261dbbd945ddd0"
  },
  {
   "metadata": {
    "ExecuteTime": {
     "end_time": "2024-06-29T08:09:32.044966Z",
     "start_time": "2024-06-29T08:09:31.646110Z"
    }
   },
   "cell_type": "code",
   "source": [
    "# Fetch price data\n",
    "price_df = fetch_glassnode_data('market/price_usd_close')\n",
    "price_df.head()"
   ],
   "id": "388cee6a4a262344",
   "outputs": [
    {
     "name": "stderr",
     "output_type": "stream",
     "text": [
      "/var/folders/ws/rcgjwb7j4cvgmzk019k3mxg80000gn/T/ipykernel_15034/1178596419.py:12: FutureWarning: Passing literal json to 'read_json' is deprecated and will be removed in a future version. To read from a literal string, wrap it in a 'StringIO' object.\n",
      "  df = pd.read_json(response.text, convert_dates=['t'])\n"
     ]
    },
    {
     "data": {
      "text/plain": [
       "            price_usd_close\n",
       "timestamp                  \n",
       "2023-01-01     16620.819927\n",
       "2023-01-02     16693.930009\n",
       "2023-01-03     16682.715885\n",
       "2023-01-04     16865.159755\n",
       "2023-01-05     16841.821596"
      ],
      "text/html": [
       "<div>\n",
       "<style scoped>\n",
       "    .dataframe tbody tr th:only-of-type {\n",
       "        vertical-align: middle;\n",
       "    }\n",
       "\n",
       "    .dataframe tbody tr th {\n",
       "        vertical-align: top;\n",
       "    }\n",
       "\n",
       "    .dataframe thead th {\n",
       "        text-align: right;\n",
       "    }\n",
       "</style>\n",
       "<table border=\"1\" class=\"dataframe\">\n",
       "  <thead>\n",
       "    <tr style=\"text-align: right;\">\n",
       "      <th></th>\n",
       "      <th>price_usd_close</th>\n",
       "    </tr>\n",
       "    <tr>\n",
       "      <th>timestamp</th>\n",
       "      <th></th>\n",
       "    </tr>\n",
       "  </thead>\n",
       "  <tbody>\n",
       "    <tr>\n",
       "      <th>2023-01-01</th>\n",
       "      <td>16620.819927</td>\n",
       "    </tr>\n",
       "    <tr>\n",
       "      <th>2023-01-02</th>\n",
       "      <td>16693.930009</td>\n",
       "    </tr>\n",
       "    <tr>\n",
       "      <th>2023-01-03</th>\n",
       "      <td>16682.715885</td>\n",
       "    </tr>\n",
       "    <tr>\n",
       "      <th>2023-01-04</th>\n",
       "      <td>16865.159755</td>\n",
       "    </tr>\n",
       "    <tr>\n",
       "      <th>2023-01-05</th>\n",
       "      <td>16841.821596</td>\n",
       "    </tr>\n",
       "  </tbody>\n",
       "</table>\n",
       "</div>"
      ]
     },
     "execution_count": 63,
     "metadata": {},
     "output_type": "execute_result"
    }
   ],
   "execution_count": 63
  },
  {
   "metadata": {},
   "cell_type": "markdown",
   "source": "Define endpoints and fetch feature data",
   "id": "490e1942e20f6495"
  },
  {
   "metadata": {
    "ExecuteTime": {
     "end_time": "2024-06-29T08:09:34.099370Z",
     "start_time": "2024-06-29T08:09:32.045670Z"
    }
   },
   "cell_type": "code",
   "source": [
    "# List of endpoint URLs (add more as needed)\n",
    "endpoints = [\n",
    "    'indicators/sopr',\n",
    "    'indicators/sopr_less_155',\n",
    "    'indicators/sopr_account_based',\n",
    "    'indicators/sopr_adjusted'\n",
    "]\n",
    "\n",
    "# Fetch and combine feature data\n",
    "features_df = pd.DataFrame()\n",
    "for endpoint in endpoints:\n",
    "    df = fetch_glassnode_data(endpoint)\n",
    "    if features_df.empty:\n",
    "        features_df = df\n",
    "    else:\n",
    "        features_df = features_df.join(df, how='outer')\n",
    "\n",
    "features_df.head()"
   ],
   "id": "60f89792afe4bb1c",
   "outputs": [
    {
     "name": "stderr",
     "output_type": "stream",
     "text": [
      "/var/folders/ws/rcgjwb7j4cvgmzk019k3mxg80000gn/T/ipykernel_15034/1178596419.py:12: FutureWarning: Passing literal json to 'read_json' is deprecated and will be removed in a future version. To read from a literal string, wrap it in a 'StringIO' object.\n",
      "  df = pd.read_json(response.text, convert_dates=['t'])\n",
      "/var/folders/ws/rcgjwb7j4cvgmzk019k3mxg80000gn/T/ipykernel_15034/1178596419.py:12: FutureWarning: Passing literal json to 'read_json' is deprecated and will be removed in a future version. To read from a literal string, wrap it in a 'StringIO' object.\n",
      "  df = pd.read_json(response.text, convert_dates=['t'])\n",
      "/var/folders/ws/rcgjwb7j4cvgmzk019k3mxg80000gn/T/ipykernel_15034/1178596419.py:12: FutureWarning: Passing literal json to 'read_json' is deprecated and will be removed in a future version. To read from a literal string, wrap it in a 'StringIO' object.\n",
      "  df = pd.read_json(response.text, convert_dates=['t'])\n",
      "/var/folders/ws/rcgjwb7j4cvgmzk019k3mxg80000gn/T/ipykernel_15034/1178596419.py:12: FutureWarning: Passing literal json to 'read_json' is deprecated and will be removed in a future version. To read from a literal string, wrap it in a 'StringIO' object.\n",
      "  df = pd.read_json(response.text, convert_dates=['t'])\n"
     ]
    },
    {
     "data": {
      "text/plain": [
       "                sopr  sopr_less_155  sopr_account_based  sopr_adjusted\n",
       "timestamp                                                             \n",
       "2023-01-01  0.993143       0.995300            0.906646       0.982933\n",
       "2023-01-02  0.997344       1.001048            0.913555       0.993102\n",
       "2023-01-03  0.987792       0.995558            0.916211       0.971039\n",
       "2023-01-04  0.985428       0.999432            0.892713       0.968075\n",
       "2023-01-05  0.990950       0.997645            0.963089       0.978652"
      ],
      "text/html": [
       "<div>\n",
       "<style scoped>\n",
       "    .dataframe tbody tr th:only-of-type {\n",
       "        vertical-align: middle;\n",
       "    }\n",
       "\n",
       "    .dataframe tbody tr th {\n",
       "        vertical-align: top;\n",
       "    }\n",
       "\n",
       "    .dataframe thead th {\n",
       "        text-align: right;\n",
       "    }\n",
       "</style>\n",
       "<table border=\"1\" class=\"dataframe\">\n",
       "  <thead>\n",
       "    <tr style=\"text-align: right;\">\n",
       "      <th></th>\n",
       "      <th>sopr</th>\n",
       "      <th>sopr_less_155</th>\n",
       "      <th>sopr_account_based</th>\n",
       "      <th>sopr_adjusted</th>\n",
       "    </tr>\n",
       "    <tr>\n",
       "      <th>timestamp</th>\n",
       "      <th></th>\n",
       "      <th></th>\n",
       "      <th></th>\n",
       "      <th></th>\n",
       "    </tr>\n",
       "  </thead>\n",
       "  <tbody>\n",
       "    <tr>\n",
       "      <th>2023-01-01</th>\n",
       "      <td>0.993143</td>\n",
       "      <td>0.995300</td>\n",
       "      <td>0.906646</td>\n",
       "      <td>0.982933</td>\n",
       "    </tr>\n",
       "    <tr>\n",
       "      <th>2023-01-02</th>\n",
       "      <td>0.997344</td>\n",
       "      <td>1.001048</td>\n",
       "      <td>0.913555</td>\n",
       "      <td>0.993102</td>\n",
       "    </tr>\n",
       "    <tr>\n",
       "      <th>2023-01-03</th>\n",
       "      <td>0.987792</td>\n",
       "      <td>0.995558</td>\n",
       "      <td>0.916211</td>\n",
       "      <td>0.971039</td>\n",
       "    </tr>\n",
       "    <tr>\n",
       "      <th>2023-01-04</th>\n",
       "      <td>0.985428</td>\n",
       "      <td>0.999432</td>\n",
       "      <td>0.892713</td>\n",
       "      <td>0.968075</td>\n",
       "    </tr>\n",
       "    <tr>\n",
       "      <th>2023-01-05</th>\n",
       "      <td>0.990950</td>\n",
       "      <td>0.997645</td>\n",
       "      <td>0.963089</td>\n",
       "      <td>0.978652</td>\n",
       "    </tr>\n",
       "  </tbody>\n",
       "</table>\n",
       "</div>"
      ]
     },
     "execution_count": 64,
     "metadata": {},
     "output_type": "execute_result"
    }
   ],
   "execution_count": 64
  },
  {
   "metadata": {},
   "cell_type": "markdown",
   "source": "Combine data and handle missing values",
   "id": "858b66298c7c0f3c"
  },
  {
   "metadata": {
    "ExecuteTime": {
     "end_time": "2024-06-29T08:09:34.107644Z",
     "start_time": "2024-06-29T08:09:34.101492Z"
    }
   },
   "cell_type": "code",
   "source": [
    "# Concatenate price and features dataframes\n",
    "combined_df = pd.concat([price_df, features_df], axis=1)\n",
    "\n",
    "# Handle missing values\n",
    "combined_df = combined_df.dropna()\n",
    "\n",
    "# Display the result\n",
    "combined_df.head()"
   ],
   "id": "efe773e3675e848c",
   "outputs": [
    {
     "data": {
      "text/plain": [
       "            price_usd_close      sopr  sopr_less_155  sopr_account_based  \\\n",
       "timestamp                                                                  \n",
       "2023-01-01     16620.819927  0.993143       0.995300            0.906646   \n",
       "2023-01-02     16693.930009  0.997344       1.001048            0.913555   \n",
       "2023-01-03     16682.715885  0.987792       0.995558            0.916211   \n",
       "2023-01-04     16865.159755  0.985428       0.999432            0.892713   \n",
       "2023-01-05     16841.821596  0.990950       0.997645            0.963089   \n",
       "\n",
       "            sopr_adjusted  \n",
       "timestamp                  \n",
       "2023-01-01       0.982933  \n",
       "2023-01-02       0.993102  \n",
       "2023-01-03       0.971039  \n",
       "2023-01-04       0.968075  \n",
       "2023-01-05       0.978652  "
      ],
      "text/html": [
       "<div>\n",
       "<style scoped>\n",
       "    .dataframe tbody tr th:only-of-type {\n",
       "        vertical-align: middle;\n",
       "    }\n",
       "\n",
       "    .dataframe tbody tr th {\n",
       "        vertical-align: top;\n",
       "    }\n",
       "\n",
       "    .dataframe thead th {\n",
       "        text-align: right;\n",
       "    }\n",
       "</style>\n",
       "<table border=\"1\" class=\"dataframe\">\n",
       "  <thead>\n",
       "    <tr style=\"text-align: right;\">\n",
       "      <th></th>\n",
       "      <th>price_usd_close</th>\n",
       "      <th>sopr</th>\n",
       "      <th>sopr_less_155</th>\n",
       "      <th>sopr_account_based</th>\n",
       "      <th>sopr_adjusted</th>\n",
       "    </tr>\n",
       "    <tr>\n",
       "      <th>timestamp</th>\n",
       "      <th></th>\n",
       "      <th></th>\n",
       "      <th></th>\n",
       "      <th></th>\n",
       "      <th></th>\n",
       "    </tr>\n",
       "  </thead>\n",
       "  <tbody>\n",
       "    <tr>\n",
       "      <th>2023-01-01</th>\n",
       "      <td>16620.819927</td>\n",
       "      <td>0.993143</td>\n",
       "      <td>0.995300</td>\n",
       "      <td>0.906646</td>\n",
       "      <td>0.982933</td>\n",
       "    </tr>\n",
       "    <tr>\n",
       "      <th>2023-01-02</th>\n",
       "      <td>16693.930009</td>\n",
       "      <td>0.997344</td>\n",
       "      <td>1.001048</td>\n",
       "      <td>0.913555</td>\n",
       "      <td>0.993102</td>\n",
       "    </tr>\n",
       "    <tr>\n",
       "      <th>2023-01-03</th>\n",
       "      <td>16682.715885</td>\n",
       "      <td>0.987792</td>\n",
       "      <td>0.995558</td>\n",
       "      <td>0.916211</td>\n",
       "      <td>0.971039</td>\n",
       "    </tr>\n",
       "    <tr>\n",
       "      <th>2023-01-04</th>\n",
       "      <td>16865.159755</td>\n",
       "      <td>0.985428</td>\n",
       "      <td>0.999432</td>\n",
       "      <td>0.892713</td>\n",
       "      <td>0.968075</td>\n",
       "    </tr>\n",
       "    <tr>\n",
       "      <th>2023-01-05</th>\n",
       "      <td>16841.821596</td>\n",
       "      <td>0.990950</td>\n",
       "      <td>0.997645</td>\n",
       "      <td>0.963089</td>\n",
       "      <td>0.978652</td>\n",
       "    </tr>\n",
       "  </tbody>\n",
       "</table>\n",
       "</div>"
      ]
     },
     "execution_count": 65,
     "metadata": {},
     "output_type": "execute_result"
    }
   ],
   "execution_count": 65
  },
  {
   "metadata": {},
   "cell_type": "markdown",
   "source": " Additional analysis or visualization (optional)",
   "id": "759143dca9c4e122"
  },
  {
   "metadata": {
    "ExecuteTime": {
     "end_time": "2024-06-29T08:09:34.116536Z",
     "start_time": "2024-06-29T08:09:34.108556Z"
    }
   },
   "cell_type": "code",
   "source": [
    "# You can add more cells here for further analysis or visualization\n",
    "combined_df.describe()"
   ],
   "id": "bff8c313824b4976",
   "outputs": [
    {
     "data": {
      "text/plain": [
       "       price_usd_close        sopr  sopr_less_155  sopr_account_based  \\\n",
       "count       100.000000  100.000000     100.000000          100.000000   \n",
       "mean      23415.304798    1.000595       1.016027            1.009464   \n",
       "std        3353.406517    0.016398       0.018120            0.052797   \n",
       "min       16620.819927    0.880878       0.961018            0.883769   \n",
       "25%       21804.378982    0.996025       1.003279            0.970866   \n",
       "50%       23164.313442    1.003370       1.016252            1.018884   \n",
       "75%       25526.203345    1.009071       1.027639            1.041921   \n",
       "max       29628.544376    1.029593       1.076041            1.109142   \n",
       "\n",
       "       sopr_adjusted  \n",
       "count     100.000000  \n",
       "mean        1.002454  \n",
       "std         0.035659  \n",
       "min         0.766452  \n",
       "25%         0.990014  \n",
       "50%         1.009144  \n",
       "75%         1.019797  \n",
       "max         1.070677  "
      ],
      "text/html": [
       "<div>\n",
       "<style scoped>\n",
       "    .dataframe tbody tr th:only-of-type {\n",
       "        vertical-align: middle;\n",
       "    }\n",
       "\n",
       "    .dataframe tbody tr th {\n",
       "        vertical-align: top;\n",
       "    }\n",
       "\n",
       "    .dataframe thead th {\n",
       "        text-align: right;\n",
       "    }\n",
       "</style>\n",
       "<table border=\"1\" class=\"dataframe\">\n",
       "  <thead>\n",
       "    <tr style=\"text-align: right;\">\n",
       "      <th></th>\n",
       "      <th>price_usd_close</th>\n",
       "      <th>sopr</th>\n",
       "      <th>sopr_less_155</th>\n",
       "      <th>sopr_account_based</th>\n",
       "      <th>sopr_adjusted</th>\n",
       "    </tr>\n",
       "  </thead>\n",
       "  <tbody>\n",
       "    <tr>\n",
       "      <th>count</th>\n",
       "      <td>100.000000</td>\n",
       "      <td>100.000000</td>\n",
       "      <td>100.000000</td>\n",
       "      <td>100.000000</td>\n",
       "      <td>100.000000</td>\n",
       "    </tr>\n",
       "    <tr>\n",
       "      <th>mean</th>\n",
       "      <td>23415.304798</td>\n",
       "      <td>1.000595</td>\n",
       "      <td>1.016027</td>\n",
       "      <td>1.009464</td>\n",
       "      <td>1.002454</td>\n",
       "    </tr>\n",
       "    <tr>\n",
       "      <th>std</th>\n",
       "      <td>3353.406517</td>\n",
       "      <td>0.016398</td>\n",
       "      <td>0.018120</td>\n",
       "      <td>0.052797</td>\n",
       "      <td>0.035659</td>\n",
       "    </tr>\n",
       "    <tr>\n",
       "      <th>min</th>\n",
       "      <td>16620.819927</td>\n",
       "      <td>0.880878</td>\n",
       "      <td>0.961018</td>\n",
       "      <td>0.883769</td>\n",
       "      <td>0.766452</td>\n",
       "    </tr>\n",
       "    <tr>\n",
       "      <th>25%</th>\n",
       "      <td>21804.378982</td>\n",
       "      <td>0.996025</td>\n",
       "      <td>1.003279</td>\n",
       "      <td>0.970866</td>\n",
       "      <td>0.990014</td>\n",
       "    </tr>\n",
       "    <tr>\n",
       "      <th>50%</th>\n",
       "      <td>23164.313442</td>\n",
       "      <td>1.003370</td>\n",
       "      <td>1.016252</td>\n",
       "      <td>1.018884</td>\n",
       "      <td>1.009144</td>\n",
       "    </tr>\n",
       "    <tr>\n",
       "      <th>75%</th>\n",
       "      <td>25526.203345</td>\n",
       "      <td>1.009071</td>\n",
       "      <td>1.027639</td>\n",
       "      <td>1.041921</td>\n",
       "      <td>1.019797</td>\n",
       "    </tr>\n",
       "    <tr>\n",
       "      <th>max</th>\n",
       "      <td>29628.544376</td>\n",
       "      <td>1.029593</td>\n",
       "      <td>1.076041</td>\n",
       "      <td>1.109142</td>\n",
       "      <td>1.070677</td>\n",
       "    </tr>\n",
       "  </tbody>\n",
       "</table>\n",
       "</div>"
      ]
     },
     "execution_count": 66,
     "metadata": {},
     "output_type": "execute_result"
    }
   ],
   "execution_count": 66
  },
  {
   "metadata": {},
   "cell_type": "markdown",
   "source": "Define & Run the Stationary Check",
   "id": "44b943e834c946e2"
  },
  {
   "metadata": {
    "ExecuteTime": {
     "end_time": "2024-06-29T08:09:34.131853Z",
     "start_time": "2024-06-29T08:09:34.117329Z"
    }
   },
   "cell_type": "code",
   "source": [
    "#define the stationary check function\n",
    "def make_stationary(series):\n",
    "    def adf_test(timeseries):\n",
    "        result = adfuller(timeseries, autolag='AIC')\n",
    "        return result[1] <= 0.05\n",
    "    diff_order = 0\n",
    "    while not adf_test(series) and diff_order < 2:\n",
    "        series = series.diff().dropna()\n",
    "        diff_order += 1\n",
    "    return series, diff_order\n",
    "\n",
    "# Make price stationary\n",
    "price_stationary, price_diff_order = make_stationary(price_df)\n",
    "features_stationary = pd.DataFrame()\n",
    "\n",
    "# Make features stationary\n",
    "features_stationary_order = []\n",
    "\n",
    "for col in features_df.columns:\n",
    "    stationary_series, diff_order = make_stationary(features_df[col])\n",
    "    features_stationary[col] = stationary_series\n",
    "    features_stationary_order.append(diff_order)\n",
    "\n",
    "# Ensure the index of features_stationary matches the original\n",
    "features_stationary.index = stationary_series.index\n",
    "\n",
    "# Create a DataFrame with the differencing orders\n",
    "diff_order_df = pd.DataFrame({'Feature': features_df.columns, 'Differencing_Order': features_stationary_order})\n",
    "\n",
    "# Display results\n",
    "print(\"Stationary Features DataFrame:\")\n",
    "print(features_stationary.head())\n",
    "print(\"\\nDifferencing Orders:\")\n",
    "print(diff_order_df)"
   ],
   "id": "6dd8676b5c15b5e4",
   "outputs": [
    {
     "name": "stdout",
     "output_type": "stream",
     "text": [
      "Stationary Features DataFrame:\n",
      "                sopr  sopr_less_155  sopr_account_based  sopr_adjusted\n",
      "timestamp                                                             \n",
      "2023-01-01  0.993143       0.995300                 NaN       0.982933\n",
      "2023-01-02  0.997344       1.001048            0.006909       0.993102\n",
      "2023-01-03  0.987792       0.995558            0.002656       0.971039\n",
      "2023-01-04  0.985428       0.999432           -0.023498       0.968075\n",
      "2023-01-05  0.990950       0.997645            0.070376       0.978652\n",
      "\n",
      "Differencing Orders:\n",
      "              Feature  Differencing_Order\n",
      "0                sopr                   0\n",
      "1       sopr_less_155                   0\n",
      "2  sopr_account_based                   1\n",
      "3       sopr_adjusted                   0\n"
     ]
    }
   ],
   "execution_count": 67
  },
  {
   "metadata": {},
   "cell_type": "markdown",
   "source": "Define & Run the Lag Value",
   "id": "e97ad75341554d41"
  },
  {
   "metadata": {
    "ExecuteTime": {
     "end_time": "2024-06-29T08:09:34.165205Z",
     "start_time": "2024-06-29T08:09:34.132452Z"
    }
   },
   "cell_type": "code",
   "source": [
    "def optimize_lag(price, feature, max_lag=10):\n",
    "    # Remove NaN and inf values\n",
    "    data = pd.concat([price, feature], axis=1).replace([np.inf, -np.inf], np.nan).dropna()\n",
    "    \n",
    "    if len(data) <= max_lag:\n",
    "        return 1, [np.inf]  # Return default values if series is too short\n",
    "    \n",
    "    aic_values = []\n",
    "    for lag in range(1, max_lag + 1):\n",
    "        try:\n",
    "            # Use feature lags to predict price\n",
    "            model = AutoReg(data.iloc[:, 0], lags=lag, exog=data.iloc[:, 1])\n",
    "            results = model.fit()\n",
    "            aic_values.append(aic(results.llf, results.nobs, results.df_model))\n",
    "        except:\n",
    "            aic_values.append(np.inf)  # Use inf for failed models\n",
    "    \n",
    "    best_lag = np.argmin(aic_values) + 1\n",
    "    return best_lag, aic_values\n",
    "\n",
    "# Assuming price_stationary is your stationary price series\n",
    "# Optimize lag for each feature and store AIC values\n",
    "optimal_lags = {}\n",
    "aic_values = {}\n",
    "for col in features_stationary.columns:\n",
    "    feature = features_stationary[col].copy()  # Create a copy to avoid modifying original data\n",
    "    if feature.isnull().all():  # Check if the entire series is NaN\n",
    "        optimal_lags[col] = 1\n",
    "        aic_values[col] = [np.inf] * 10  # Assuming max_lag=10\n",
    "    else:\n",
    "        optimal_lags[col], aic_values[col] = optimize_lag(price_stationary, feature)\n",
    "\n",
    "# Create DataFrames for optimal lags and AIC values\n",
    "optimal_lags_df = pd.DataFrame.from_dict(optimal_lags, orient='index', columns=['Optimal_Lag'])\n",
    "aic_values_df = pd.DataFrame(aic_values)\n",
    "\n",
    "# Display results\n",
    "print(\"Optimal Lags:\")\n",
    "print(optimal_lags_df)\n",
    "print(\"\\nAIC Values:\")\n",
    "print(aic_values_df.head())  # Showing only the first few rows of AIC values"
   ],
   "id": "99e201aeafd7da47",
   "outputs": [
    {
     "name": "stdout",
     "output_type": "stream",
     "text": [
      "Optimal Lags:\n",
      "                    Optimal_Lag\n",
      "sopr                         10\n",
      "sopr_less_155                10\n",
      "sopr_account_based           10\n",
      "sopr_adjusted                10\n",
      "\n",
      "AIC Values:\n",
      "          sopr  sopr_less_155  sopr_account_based  sopr_adjusted\n",
      "0  1547.970564    1532.602220         1539.936070    1548.449266\n",
      "1  1535.088421    1519.452480         1526.315531    1535.596822\n",
      "2  1522.206525    1505.680682         1513.151697    1522.703606\n",
      "3  1509.365401    1489.806539         1499.155766    1509.819438\n",
      "4  1495.320113    1474.583304         1485.706816    1495.692608\n"
     ]
    }
   ],
   "execution_count": 68
  },
  {
   "metadata": {
    "ExecuteTime": {
     "end_time": "2024-06-29T08:09:34.167357Z",
     "start_time": "2024-06-29T08:09:34.166020Z"
    }
   },
   "cell_type": "code",
   "source": "",
   "id": "c858b95721519ef8",
   "outputs": [],
   "execution_count": 68
  },
  {
   "metadata": {
    "ExecuteTime": {
     "end_time": "2024-06-29T08:09:34.169273Z",
     "start_time": "2024-06-29T08:09:34.167874Z"
    }
   },
   "cell_type": "code",
   "source": "",
   "id": "177cd705f9034ef3",
   "outputs": [],
   "execution_count": 68
  }
 ],
 "metadata": {
  "kernelspec": {
   "display_name": "Python 3",
   "language": "python",
   "name": "python3"
  },
  "language_info": {
   "codemirror_mode": {
    "name": "ipython",
    "version": 2
   },
   "file_extension": ".py",
   "mimetype": "text/x-python",
   "name": "python",
   "nbconvert_exporter": "python",
   "pygments_lexer": "ipython2",
   "version": "2.7.6"
  }
 },
 "nbformat": 4,
 "nbformat_minor": 5
}
