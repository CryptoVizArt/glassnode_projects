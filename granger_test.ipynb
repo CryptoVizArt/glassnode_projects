{
 "cells": [
  {
   "metadata": {
    "ExecuteTime": {
     "end_time": "2024-06-28T01:00:40.378307Z",
     "start_time": "2024-06-28T01:00:36.910190Z"
    }
   },
   "cell_type": "code",
   "source": [
    "# Time Series Analysis and Granger Causality - Version 01\n",
    "import numpy as np\n",
    "import pandas as pd\n",
    "import matplotlib.pyplot as plt\n",
    "from statsmodels.tsa.stattools import adfuller, grangercausalitytests\n",
    "from statsmodels.tsa.ar_model import AutoReg\n",
    "from statsmodels.tools.eval_measures import aic, bic"
   ],
   "id": "2cd2f45998ee3d55",
   "outputs": [],
   "execution_count": 1
  },
  {
   "metadata": {
    "ExecuteTime": {
     "end_time": "2024-06-28T02:17:00.000292Z",
     "start_time": "2024-06-28T02:16:59.997121Z"
    }
   },
   "cell_type": "code",
   "source": [
    "def read_data(file_path):\n",
    "    df = pd.read_csv(file_path)\n",
    "    df['timestamp'] = pd.to_datetime(df['date'] + ' ' + df['time'])\n",
    "    df.set_index('timestamp', inplace=True)\n",
    "    df = df.drop(['date', 'time'], axis=1)\n",
    "    price = df['price']\n",
    "    features = df.drop('price', axis=1)\n",
    "    return price, features"
   ],
   "id": "491f0857217f0612",
   "outputs": [],
   "execution_count": 12
  },
  {
   "metadata": {
    "ExecuteTime": {
     "end_time": "2024-06-28T01:08:07.217870Z",
     "start_time": "2024-06-28T01:08:07.215158Z"
    }
   },
   "cell_type": "code",
   "source": [
    "def make_stationary(series):\n",
    "    def adf_test(timeseries):\n",
    "        result = adfuller(timeseries, autolag='AIC')\n",
    "        return result[1] <= 0.05\n",
    "    diff_order = 0\n",
    "    while not adf_test(series) and diff_order < 2:\n",
    "        series = series.diff().dropna()\n",
    "        diff_order += 1\n",
    "    return series, diff_order"
   ],
   "id": "64547b08bc4b3c1e",
   "outputs": [],
   "execution_count": 5
  },
  {
   "metadata": {
    "ExecuteTime": {
     "end_time": "2024-06-28T01:08:16.017504Z",
     "start_time": "2024-06-28T01:08:16.014239Z"
    }
   },
   "cell_type": "code",
   "source": [
    "def optimize_lag(series, max_lag=10):\n",
    "    aic_values = []\n",
    "    for lag in range(1, max_lag + 1):\n",
    "        model = AutoReg(series, lags=lag)\n",
    "        results = model.fit()\n",
    "        aic_values.append(aic(results.llf, results.nobs, results.df_model))\n",
    "    best_lag = np.argmin(aic_values) + 1\n",
    "    return best_lag, aic_values"
   ],
   "id": "f1c6705a01872e3d",
   "outputs": [],
   "execution_count": 6
  },
  {
   "metadata": {
    "ExecuteTime": {
     "end_time": "2024-06-28T01:08:22.994426Z",
     "start_time": "2024-06-28T01:08:22.991217Z"
    }
   },
   "cell_type": "code",
   "source": [
    "def rolling_granger_causality(y, x, window_size, max_lag):\n",
    "    results = []\n",
    "    for i in range(len(y) - window_size + 1):\n",
    "        y_window = y[i:i+window_size]\n",
    "        x_window = x[i:i+window_size]\n",
    "        gc_res = grangercausalitytests(pd.concat([y_window, x_window], axis=1), maxlag=max_lag, verbose=False)\n",
    "        p_value = gc_res[max_lag][0]['ssr_ftest'][1]\n",
    "        results.append(p_value)\n",
    "    return results"
   ],
   "id": "9e3fba7d82ee9be9",
   "outputs": [],
   "execution_count": 7
  },
  {
   "metadata": {
    "ExecuteTime": {
     "end_time": "2024-06-28T02:17:12.052904Z",
     "start_time": "2024-06-28T02:17:12.010991Z"
    }
   },
   "cell_type": "code",
   "source": [
    "# File path - replace with your actual file path\n",
    "file_path = '/Users/maziyarmahmoodi/Desktop/glassnode/causality_test/date/test-sopr-day-5year.csv'\n",
    "# Read the data\n",
    "price, features = read_data(file_path)"
   ],
   "id": "3e3658f50fb118b6",
   "outputs": [
    {
     "ename": "KeyError",
     "evalue": "'date'",
     "output_type": "error",
     "traceback": [
      "\u001B[0;31m---------------------------------------------------------------------------\u001B[0m",
      "\u001B[0;31mKeyError\u001B[0m                                  Traceback (most recent call last)",
      "File \u001B[0;32m/Library/Frameworks/Python.framework/Versions/3.12/lib/python3.12/site-packages/pandas/core/indexes/base.py:3805\u001B[0m, in \u001B[0;36mIndex.get_loc\u001B[0;34m(self, key)\u001B[0m\n\u001B[1;32m   3804\u001B[0m \u001B[38;5;28;01mtry\u001B[39;00m:\n\u001B[0;32m-> 3805\u001B[0m     \u001B[38;5;28;01mreturn\u001B[39;00m \u001B[38;5;28;43mself\u001B[39;49m\u001B[38;5;241;43m.\u001B[39;49m\u001B[43m_engine\u001B[49m\u001B[38;5;241;43m.\u001B[39;49m\u001B[43mget_loc\u001B[49m\u001B[43m(\u001B[49m\u001B[43mcasted_key\u001B[49m\u001B[43m)\u001B[49m\n\u001B[1;32m   3806\u001B[0m \u001B[38;5;28;01mexcept\u001B[39;00m \u001B[38;5;167;01mKeyError\u001B[39;00m \u001B[38;5;28;01mas\u001B[39;00m err:\n",
      "File \u001B[0;32mindex.pyx:167\u001B[0m, in \u001B[0;36mpandas._libs.index.IndexEngine.get_loc\u001B[0;34m()\u001B[0m\n",
      "File \u001B[0;32mindex.pyx:196\u001B[0m, in \u001B[0;36mpandas._libs.index.IndexEngine.get_loc\u001B[0;34m()\u001B[0m\n",
      "File \u001B[0;32mpandas/_libs/hashtable_class_helper.pxi:7081\u001B[0m, in \u001B[0;36mpandas._libs.hashtable.PyObjectHashTable.get_item\u001B[0;34m()\u001B[0m\n",
      "File \u001B[0;32mpandas/_libs/hashtable_class_helper.pxi:7089\u001B[0m, in \u001B[0;36mpandas._libs.hashtable.PyObjectHashTable.get_item\u001B[0;34m()\u001B[0m\n",
      "\u001B[0;31mKeyError\u001B[0m: 'date'",
      "\nThe above exception was the direct cause of the following exception:\n",
      "\u001B[0;31mKeyError\u001B[0m                                  Traceback (most recent call last)",
      "Cell \u001B[0;32mIn[13], line 4\u001B[0m\n\u001B[1;32m      2\u001B[0m file_path \u001B[38;5;241m=\u001B[39m \u001B[38;5;124m'\u001B[39m\u001B[38;5;124m/Users/maziyarmahmoodi/Desktop/glassnode/causality_test/date/test-sopr-day-5year.csv\u001B[39m\u001B[38;5;124m'\u001B[39m\n\u001B[1;32m      3\u001B[0m \u001B[38;5;66;03m# Read the data\u001B[39;00m\n\u001B[0;32m----> 4\u001B[0m price, features \u001B[38;5;241m=\u001B[39m \u001B[43mread_data\u001B[49m\u001B[43m(\u001B[49m\u001B[43mfile_path\u001B[49m\u001B[43m)\u001B[49m\n",
      "Cell \u001B[0;32mIn[12], line 3\u001B[0m, in \u001B[0;36mread_data\u001B[0;34m(file_path)\u001B[0m\n\u001B[1;32m      1\u001B[0m \u001B[38;5;28;01mdef\u001B[39;00m \u001B[38;5;21mread_data\u001B[39m(file_path):\n\u001B[1;32m      2\u001B[0m     df \u001B[38;5;241m=\u001B[39m pd\u001B[38;5;241m.\u001B[39mread_csv(file_path)\n\u001B[0;32m----> 3\u001B[0m     df[\u001B[38;5;124m'\u001B[39m\u001B[38;5;124mtimestamp\u001B[39m\u001B[38;5;124m'\u001B[39m] \u001B[38;5;241m=\u001B[39m pd\u001B[38;5;241m.\u001B[39mto_datetime(\u001B[43mdf\u001B[49m\u001B[43m[\u001B[49m\u001B[38;5;124;43m'\u001B[39;49m\u001B[38;5;124;43mdate\u001B[39;49m\u001B[38;5;124;43m'\u001B[39;49m\u001B[43m]\u001B[49m \u001B[38;5;241m+\u001B[39m \u001B[38;5;124m'\u001B[39m\u001B[38;5;124m \u001B[39m\u001B[38;5;124m'\u001B[39m \u001B[38;5;241m+\u001B[39m df[\u001B[38;5;124m'\u001B[39m\u001B[38;5;124mtime\u001B[39m\u001B[38;5;124m'\u001B[39m])\n\u001B[1;32m      4\u001B[0m     df\u001B[38;5;241m.\u001B[39mset_index(\u001B[38;5;124m'\u001B[39m\u001B[38;5;124mtimestamp\u001B[39m\u001B[38;5;124m'\u001B[39m, inplace\u001B[38;5;241m=\u001B[39m\u001B[38;5;28;01mTrue\u001B[39;00m)\n\u001B[1;32m      5\u001B[0m     df \u001B[38;5;241m=\u001B[39m df\u001B[38;5;241m.\u001B[39mdrop([\u001B[38;5;124m'\u001B[39m\u001B[38;5;124mdate\u001B[39m\u001B[38;5;124m'\u001B[39m, \u001B[38;5;124m'\u001B[39m\u001B[38;5;124mtime\u001B[39m\u001B[38;5;124m'\u001B[39m], axis\u001B[38;5;241m=\u001B[39m\u001B[38;5;241m1\u001B[39m)\n",
      "File \u001B[0;32m/Library/Frameworks/Python.framework/Versions/3.12/lib/python3.12/site-packages/pandas/core/frame.py:4102\u001B[0m, in \u001B[0;36mDataFrame.__getitem__\u001B[0;34m(self, key)\u001B[0m\n\u001B[1;32m   4100\u001B[0m \u001B[38;5;28;01mif\u001B[39;00m \u001B[38;5;28mself\u001B[39m\u001B[38;5;241m.\u001B[39mcolumns\u001B[38;5;241m.\u001B[39mnlevels \u001B[38;5;241m>\u001B[39m \u001B[38;5;241m1\u001B[39m:\n\u001B[1;32m   4101\u001B[0m     \u001B[38;5;28;01mreturn\u001B[39;00m \u001B[38;5;28mself\u001B[39m\u001B[38;5;241m.\u001B[39m_getitem_multilevel(key)\n\u001B[0;32m-> 4102\u001B[0m indexer \u001B[38;5;241m=\u001B[39m \u001B[38;5;28;43mself\u001B[39;49m\u001B[38;5;241;43m.\u001B[39;49m\u001B[43mcolumns\u001B[49m\u001B[38;5;241;43m.\u001B[39;49m\u001B[43mget_loc\u001B[49m\u001B[43m(\u001B[49m\u001B[43mkey\u001B[49m\u001B[43m)\u001B[49m\n\u001B[1;32m   4103\u001B[0m \u001B[38;5;28;01mif\u001B[39;00m is_integer(indexer):\n\u001B[1;32m   4104\u001B[0m     indexer \u001B[38;5;241m=\u001B[39m [indexer]\n",
      "File \u001B[0;32m/Library/Frameworks/Python.framework/Versions/3.12/lib/python3.12/site-packages/pandas/core/indexes/base.py:3812\u001B[0m, in \u001B[0;36mIndex.get_loc\u001B[0;34m(self, key)\u001B[0m\n\u001B[1;32m   3807\u001B[0m     \u001B[38;5;28;01mif\u001B[39;00m \u001B[38;5;28misinstance\u001B[39m(casted_key, \u001B[38;5;28mslice\u001B[39m) \u001B[38;5;129;01mor\u001B[39;00m (\n\u001B[1;32m   3808\u001B[0m         \u001B[38;5;28misinstance\u001B[39m(casted_key, abc\u001B[38;5;241m.\u001B[39mIterable)\n\u001B[1;32m   3809\u001B[0m         \u001B[38;5;129;01mand\u001B[39;00m \u001B[38;5;28many\u001B[39m(\u001B[38;5;28misinstance\u001B[39m(x, \u001B[38;5;28mslice\u001B[39m) \u001B[38;5;28;01mfor\u001B[39;00m x \u001B[38;5;129;01min\u001B[39;00m casted_key)\n\u001B[1;32m   3810\u001B[0m     ):\n\u001B[1;32m   3811\u001B[0m         \u001B[38;5;28;01mraise\u001B[39;00m InvalidIndexError(key)\n\u001B[0;32m-> 3812\u001B[0m     \u001B[38;5;28;01mraise\u001B[39;00m \u001B[38;5;167;01mKeyError\u001B[39;00m(key) \u001B[38;5;28;01mfrom\u001B[39;00m \u001B[38;5;21;01merr\u001B[39;00m\n\u001B[1;32m   3813\u001B[0m \u001B[38;5;28;01mexcept\u001B[39;00m \u001B[38;5;167;01mTypeError\u001B[39;00m:\n\u001B[1;32m   3814\u001B[0m     \u001B[38;5;66;03m# If we have a listlike key, _check_indexing_error will raise\u001B[39;00m\n\u001B[1;32m   3815\u001B[0m     \u001B[38;5;66;03m#  InvalidIndexError. Otherwise we fall through and re-raise\u001B[39;00m\n\u001B[1;32m   3816\u001B[0m     \u001B[38;5;66;03m#  the TypeError.\u001B[39;00m\n\u001B[1;32m   3817\u001B[0m     \u001B[38;5;28mself\u001B[39m\u001B[38;5;241m.\u001B[39m_check_indexing_error(key)\n",
      "\u001B[0;31mKeyError\u001B[0m: 'date'"
     ]
    }
   ],
   "execution_count": 13
  },
  {
   "metadata": {},
   "cell_type": "code",
   "outputs": [],
   "execution_count": null,
   "source": [
    "# Print info about the loaded data\n",
    "print(\"Data loaded successfully.\")\n",
    "print(f\"Time range: {price.index.min()} to {price.index.max()}\")\n",
    "print(f\"Number of data points: {len(price)}\")\n",
    "print(f\"Number of features: {len(features.columns)}\")\n",
    "print(\"Features:\", \", \".join(features.columns))"
   ],
   "id": "fc1bafb645e9d2e7"
  },
  {
   "metadata": {},
   "cell_type": "code",
   "outputs": [],
   "execution_count": null,
   "source": [
    "# Make price and features stationary\n",
    "price_stationary, price_diff_order = make_stationary(price)\n",
    "features_stationary = {}\n",
    "for col in features.columns:\n",
    "    features_stationary[col], _ = make_stationary(features[col])"
   ],
   "id": "6582f6b52c1cee9c"
  },
  {
   "metadata": {},
   "cell_type": "code",
   "outputs": [],
   "execution_count": null,
   "source": [
    "# Optimize lag for each feature and store AIC values\n",
    "optimal_lags = {}\n",
    "aic_values = {}\n",
    "for col, series in features_stationary.items():\n",
    "    optimal_lags[col], aic_values[col] = optimize_lag(series)"
   ],
   "id": "9515b546a8a47479"
  },
  {
   "metadata": {},
   "cell_type": "code",
   "outputs": [],
   "execution_count": null,
   "source": [
    "# Visualize lag optimization\n",
    "plt.figure(figsize=(15, 5 * ((len(features_stationary) + 1) // 2)))\n",
    "for i, (col, aics) in enumerate(aic_values.items(), 1):\n",
    "    plt.subplot(((len(features_stationary) + 1) // 2), 2, i)\n",
    "    plt.plot(range(1, len(aics) + 1), aics, marker='o')\n",
    "    plt.axvline(optimal_lags[col], color='r', linestyle='--', label=f'Optimal lag: {optimal_lags[col]}')\n",
    "    plt.title(f'AIC vs Lag for {col}')\n",
    "    plt.xlabel('Lag')\n",
    "    plt.ylabel('AIC')\n",
    "    plt.legend()\n",
    "plt.tight_layout()\n",
    "plt.show()"
   ],
   "id": "e20e7ffd97982d0"
  },
  {
   "metadata": {},
   "cell_type": "code",
   "outputs": [],
   "execution_count": null,
   "source": [
    "# Perform rolling window Granger causality tests\n",
    "window_size = 252  # Example: 1 year of daily data\n",
    "granger_results = {}"
   ],
   "id": "841cd93f3530f398"
  },
  {
   "metadata": {},
   "cell_type": "code",
   "outputs": [],
   "execution_count": null,
   "source": [
    "# Price -> Features\n",
    "for col, series in features_stationary.items():\n",
    "    granger_results[f'Price -> {col}'] = rolling_granger_causality(series, price_stationary, window_size, optimal_lags[col])"
   ],
   "id": "43c6560d41928d43"
  },
  {
   "metadata": {},
   "cell_type": "code",
   "outputs": [],
   "execution_count": null,
   "source": [
    "# Features -> Price\n",
    "for col, series in features_stationary.items():\n",
    "    granger_results[f'{col} -> Price'] = rolling_granger_causality(price_stationary, series, window_size, optimal_lags[col])"
   ],
   "id": "e6940fd11a25b2d2"
  },
  {
   "metadata": {},
   "cell_type": "code",
   "outputs": [],
   "execution_count": null,
   "source": [
    "# Features -> Features\n",
    "for col1, series1 in features_stationary.items():\n",
    "    for col2, series2 in features_stationary.items():\n",
    "        if col1 != col2:\n",
    "            granger_results[f'{col1} -> {col2}'] = rolling_granger_causality(series2, series1, window_size, optimal_lags[col1])\n"
   ],
   "id": "c708e8b65d0cc7cf"
  },
  {
   "metadata": {},
   "cell_type": "code",
   "outputs": [],
   "execution_count": null,
   "source": [
    "# Visualize Granger causality results\n",
    "plt.figure(figsize=(15, 10))\n",
    "plt.subplot(211)\n",
    "plt.plot(price.index[window_size-1:], price[window_size-1:])\n",
    "plt.title('Price')\n",
    "plt.subplot(212)\n",
    "for key, values in granger_results.items():\n",
    "    if 'Price' in key:\n",
    "        plt.plot(price.index[window_size-1:], values, label=key)\n",
    "plt.title('Granger Causality p-values')\n",
    "plt.legend()\n",
    "plt.tight_layout()\n",
    "plt.show()"
   ],
   "id": "2e8c5fcce924384c"
  },
  {
   "metadata": {},
   "cell_type": "code",
   "outputs": [],
   "execution_count": null,
   "source": [
    "# Print optimal lag values\n",
    "print(\"Optimal lag values:\")\n",
    "for col, lag in optimal_lags.items():\n",
    "    print(f\"{col}: {lag}\")"
   ],
   "id": "dfac1ef4d63db523"
  }
 ],
 "metadata": {
  "kernelspec": {
   "display_name": "Python 3",
   "language": "python",
   "name": "python3"
  },
  "language_info": {
   "codemirror_mode": {
    "name": "ipython",
    "version": 2
   },
   "file_extension": ".py",
   "mimetype": "text/x-python",
   "name": "python",
   "nbconvert_exporter": "python",
   "pygments_lexer": "ipython2",
   "version": "2.7.6"
  }
 },
 "nbformat": 4,
 "nbformat_minor": 5
}
