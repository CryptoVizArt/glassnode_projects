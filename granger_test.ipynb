{
 "cells": [
  {
   "metadata": {},
   "cell_type": "code",
   "outputs": [],
   "execution_count": null,
   "source": "",
   "id": "9085c8aa5aa05e67"
  },
  {
   "metadata": {},
   "cell_type": "code",
   "outputs": [],
   "execution_count": null,
   "source": [
    "# Time Series Analysis and Granger Causality - Version 01\n",
    "import numpy as np\n",
    "import pandas as pd\n",
    "import matplotlib.pyplot as plt\n",
    "from statsmodels.tsa.stattools import adfuller, grangercausalitytests\n",
    "from statsmodels.tsa.ar_model import AutoReg\n",
    "from statsmodels.tools.eval_measures import aic, bic"
   ],
   "id": "2cd2f45998ee3d55"
  },
  {
   "metadata": {},
   "cell_type": "code",
   "outputs": [],
   "execution_count": null,
   "source": [
    "def read_data(file_path):\n",
    "    df = pd.read_csv(file_path)\n",
    "    df['datetime'] = pd.to_datetime(df['date'] + ' ' + df['time'])\n",
    "    df.set_index('datetime', inplace=True)\n",
    "    df = df.drop(['date', 'time'], axis=1)\n",
    "    price = df['price']\n",
    "    features = df.drop('price', axis=1)\n",
    "    return price, features"
   ],
   "id": "491f0857217f0612"
  },
  {
   "metadata": {},
   "cell_type": "code",
   "outputs": [],
   "execution_count": null,
   "source": [
    "def make_stationary(series):\n",
    "    def adf_test(timeseries):\n",
    "        result = adfuller(timeseries, autolag='AIC')\n",
    "        return result[1] <= 0.05"
   ],
   "id": "64547b08bc4b3c1e"
  },
  {
   "metadata": {},
   "cell_type": "code",
   "outputs": [],
   "execution_count": null,
   "source": [
    " diff_order = 0\n",
    "    while not adf_test(series) and diff_order < 2:\n",
    "        series = series.diff().dropna()\n",
    "        diff_order += 1\n",
    "    return series, diff_order"
   ],
   "id": "1c3be3c59cbeffbc"
  },
  {
   "metadata": {},
   "cell_type": "code",
   "outputs": [],
   "execution_count": null,
   "source": [
    "def optimize_lag(series, max_lag=10):\n",
    "    aic_values = []\n",
    "    for lag in range(1, max_lag + 1):\n",
    "        model = AutoReg(series, lags=lag)\n",
    "        results = model.fit()\n",
    "        aic_values.append(aic(results.llf, results.nobs, results.df_model))\n",
    "    best_lag = np.argmin(aic_values) + 1\n",
    "    return best_lag, aic_values"
   ],
   "id": "f1c6705a01872e3d"
  },
  {
   "metadata": {},
   "cell_type": "code",
   "outputs": [],
   "execution_count": null,
   "source": [
    "def rolling_granger_causality(y, x, window_size, max_lag):\n",
    "    results = []\n",
    "    for i in range(len(y) - window_size + 1):\n",
    "        y_window = y[i:i+window_size]\n",
    "        x_window = x[i:i+window_size]\n",
    "        gc_res = grangercausalitytests(pd.concat([y_window, x_window], axis=1), maxlag=max_lag, verbose=False)\n",
    "        p_value = gc_res[max_lag][0]['ssr_ftest'][1]\n",
    "        results.append(p_value)\n",
    "    return results"
   ],
   "id": "9e3fba7d82ee9be9"
  },
  {
   "metadata": {},
   "cell_type": "code",
   "outputs": [],
   "execution_count": null,
   "source": [
    "# File path - replace with your actual file path\n",
    "file_path = 'your_data.csv'\n",
    "# Read the data\n",
    "price, features = read_data(file_path)"
   ],
   "id": "3e3658f50fb118b6"
  },
  {
   "metadata": {},
   "cell_type": "code",
   "outputs": [],
   "execution_count": null,
   "source": [
    "# Print info about the loaded data\n",
    "print(\"Data loaded successfully.\")\n",
    "print(f\"Time range: {price.index.min()} to {price.index.max()}\")\n",
    "print(f\"Number of data points: {len(price)}\")\n",
    "print(f\"Number of features: {len(features.columns)}\")\n",
    "print(\"Features:\", \", \".join(features.columns))"
   ],
   "id": "fc1bafb645e9d2e7"
  },
  {
   "metadata": {},
   "cell_type": "code",
   "outputs": [],
   "execution_count": null,
   "source": [
    "# Make price and features stationary\n",
    "price_stationary, price_diff_order = make_stationary(price)\n",
    "features_stationary = {}\n",
    "for col in features.columns:\n",
    "    features_stationary[col], _ = make_stationary(features[col])"
   ],
   "id": "6582f6b52c1cee9c"
  },
  {
   "metadata": {},
   "cell_type": "code",
   "outputs": [],
   "execution_count": null,
   "source": [
    "# Optimize lag for each feature and store AIC values\n",
    "optimal_lags = {}\n",
    "aic_values = {}\n",
    "for col, series in features_stationary.items():\n",
    "    optimal_lags[col], aic_values[col] = optimize_lag(series)"
   ],
   "id": "9515b546a8a47479"
  },
  {
   "metadata": {},
   "cell_type": "code",
   "outputs": [],
   "execution_count": null,
   "source": [
    "# Visualize lag optimization\n",
    "plt.figure(figsize=(15, 5 * ((len(features_stationary) + 1) // 2)))\n",
    "for i, (col, aics) in enumerate(aic_values.items(), 1):\n",
    "    plt.subplot(((len(features_stationary) + 1) // 2), 2, i)\n",
    "    plt.plot(range(1, len(aics) + 1), aics, marker='o')\n",
    "    plt.axvline(optimal_lags[col], color='r', linestyle='--', label=f'Optimal lag: {optimal_lags[col]}')\n",
    "    plt.title(f'AIC vs Lag for {col}')\n",
    "    plt.xlabel('Lag')\n",
    "    plt.ylabel('AIC')\n",
    "    plt.legend()\n",
    "plt.tight_layout()\n",
    "plt.show()"
   ],
   "id": "e20e7ffd97982d0"
  },
  {
   "metadata": {},
   "cell_type": "code",
   "outputs": [],
   "execution_count": null,
   "source": [
    "# Perform rolling window Granger causality tests\n",
    "window_size = 252  # Example: 1 year of daily data\n",
    "granger_results = {}"
   ],
   "id": "841cd93f3530f398"
  },
  {
   "metadata": {},
   "cell_type": "code",
   "outputs": [],
   "execution_count": null,
   "source": [
    "# Price -> Features\n",
    "for col, series in features_stationary.items():\n",
    "    granger_results[f'Price -> {col}'] = rolling_granger_causality(series, price_stationary, window_size, optimal_lags[col])"
   ],
   "id": "43c6560d41928d43"
  },
  {
   "metadata": {},
   "cell_type": "code",
   "outputs": [],
   "execution_count": null,
   "source": [
    "# Features -> Price\n",
    "for col, series in features_stationary.items():\n",
    "    granger_results[f'{col} -> Price'] = rolling_granger_causality(price_stationary, series, window_size, optimal_lags[col])"
   ],
   "id": "e6940fd11a25b2d2"
  },
  {
   "metadata": {},
   "cell_type": "code",
   "outputs": [],
   "execution_count": null,
   "source": [
    "# Features -> Features\n",
    "for col1, series1 in features_stationary.items():\n",
    "    for col2, series2 in features_stationary.items():\n",
    "        if col1 != col2:\n",
    "            granger_results[f'{col1} -> {col2}'] = rolling_granger_causality(series2, series1, window_size, optimal_lags[col1])\n"
   ],
   "id": "c708e8b65d0cc7cf"
  },
  {
   "metadata": {},
   "cell_type": "code",
   "outputs": [],
   "execution_count": null,
   "source": [
    "# Visualize Granger causality results\n",
    "plt.figure(figsize=(15, 10))\n",
    "plt.subplot(211)\n",
    "plt.plot(price.index[window_size-1:], price[window_size-1:])\n",
    "plt.title('Price')\n",
    "plt.subplot(212)\n",
    "for key, values in granger_results.items():\n",
    "    if 'Price' in key:\n",
    "        plt.plot(price.index[window_size-1:], values, label=key)\n",
    "plt.title('Granger Causality p-values')\n",
    "plt.legend()\n",
    "plt.tight_layout()\n",
    "plt.show()"
   ],
   "id": "2e8c5fcce924384c"
  },
  {
   "metadata": {},
   "cell_type": "code",
   "outputs": [],
   "execution_count": null,
   "source": [
    "# Print optimal lag values\n",
    "print(\"Optimal lag values:\")\n",
    "for col, lag in optimal_lags.items():\n",
    "    print(f\"{col}: {lag}\")"
   ],
   "id": "dfac1ef4d63db523"
  }
 ],
 "metadata": {
  "kernelspec": {
   "display_name": "Python 3",
   "language": "python",
   "name": "python3"
  },
  "language_info": {
   "codemirror_mode": {
    "name": "ipython",
    "version": 2
   },
   "file_extension": ".py",
   "mimetype": "text/x-python",
   "name": "python",
   "nbconvert_exporter": "python",
   "pygments_lexer": "ipython2",
   "version": "2.7.6"
  }
 },
 "nbformat": 4,
 "nbformat_minor": 5
}
