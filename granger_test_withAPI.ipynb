{
 "cells": [
  {
   "metadata": {},
   "cell_type": "markdown",
   "source": "Import libraries and set up API key",
   "id": "32b3d4bb0b391ac7"
  },
  {
   "metadata": {
    "ExecuteTime": {
     "end_time": "2024-06-29T03:42:41.026594Z",
     "start_time": "2024-06-29T03:42:40.782791Z"
    }
   },
   "cell_type": "code",
   "source": [
    "import json\n",
    "import requests\n",
    "import pandas as pd\n",
    "from datetime import datetime, timedelta\n",
    "\n",
    "# Insert your API key here\n",
    "API_KEY = ''"
   ],
   "id": "5be5299b4525f88b",
   "outputs": [],
   "execution_count": 1
  },
  {
   "metadata": {},
   "cell_type": "markdown",
   "source": "Get user input",
   "id": "3e10c400f4d65538"
  },
  {
   "metadata": {
    "ExecuteTime": {
     "end_time": "2024-06-29T03:43:07.319597Z",
     "start_time": "2024-06-29T03:42:45.837581Z"
    }
   },
   "cell_type": "code",
   "source": [
    "# Insert your API key here\n",
    "API_KEY = str(input(\"Insert your API key here\"))\n",
    "#Ask user for input\n",
    "num_data_points = int(input(\"How many data points do you want to load? \"))\n",
    "start_date = input(\"Enter the starting date (YYYY-MM-DD): \")\n",
    "\n",
    "# Calculate end date based on start date and number of data points\n",
    "start_datetime = datetime.strptime(start_date, \"%Y-%m-%d\")\n",
    "end_datetime = start_datetime + timedelta(days=num_data_points)\n",
    "end_date = end_datetime.strftime(\"%Y-%m-%d\")"
   ],
   "id": "c53b6e303adb118b",
   "outputs": [],
   "execution_count": 2
  },
  {
   "metadata": {},
   "cell_type": "markdown",
   "source": "Define the function to fetch data",
   "id": "1a0db1732d5c0af7"
  },
  {
   "metadata": {},
   "cell_type": "code",
   "outputs": [],
   "execution_count": null,
   "source": [
    "def fetch_glassnode_data(endpoint, asset='BTC'):\n",
    "    url = f'https://api.glassnode.com/v1/metrics/{endpoint}'\n",
    "    params = {\n",
    "        'a': asset,\n",
    "        'api_key': API_KEY,\n",
    "        's': start_date,\n",
    "        'u': end_date,\n",
    "        'i': '24h'  # daily interval\n",
    "    }\n",
    "    response = requests.get(url, params=params)\n",
    "    if response.status_code == 200:\n",
    "        df = pd.read_json(response.text, convert_dates=['t'])\n",
    "        column_name = endpoint.split('/')[-1]\n",
    "        df = df.rename(columns={'t': 'timestamp', 'v': column_name})\n",
    "        return df.set_index('timestamp')\n",
    "    else:\n",
    "        print(f\"Error fetching data from {endpoint}: {response.status_code}\")\n",
    "        return pd.DataFrame()"
   ],
   "id": "d943b602825f61b6"
  },
  {
   "metadata": {},
   "cell_type": "markdown",
   "source": "Fetch price data",
   "id": "2f261dbbd945ddd0"
  },
  {
   "metadata": {},
   "cell_type": "code",
   "outputs": [],
   "execution_count": null,
   "source": [
    "# Fetch price data\n",
    "price_df = fetch_glassnode_data('market/price_usd_close')\n",
    "price_df.head()"
   ],
   "id": "388cee6a4a262344"
  },
  {
   "metadata": {},
   "cell_type": "markdown",
   "source": "Define endpoints and fetch feature data",
   "id": "490e1942e20f6495"
  },
  {
   "metadata": {},
   "cell_type": "code",
   "outputs": [],
   "execution_count": null,
   "source": [
    "# List of endpoint URLs (add more as needed)\n",
    "endpoints = [\n",
    "    'indicators/sopr',\n",
    "    'market/marketcap_usd',\n",
    "    'transactions/transfers_volume_sum'\n",
    "]\n",
    "\n",
    "# Fetch and combine feature data\n",
    "features_df = pd.DataFrame()\n",
    "for endpoint in endpoints:\n",
    "    df = fetch_glassnode_data(endpoint)\n",
    "    if features_df.empty:\n",
    "        features_df = df\n",
    "    else:\n",
    "        features_df = features_df.join(df, how='outer')\n",
    "\n",
    "features_df.head()"
   ],
   "id": "60f89792afe4bb1c"
  },
  {
   "metadata": {},
   "cell_type": "markdown",
   "source": "Combine data and handle missing values",
   "id": "858b66298c7c0f3c"
  },
  {
   "metadata": {},
   "cell_type": "code",
   "outputs": [],
   "execution_count": null,
   "source": [
    "# Concatenate price and features dataframes\n",
    "combined_df = pd.concat([price_df, features_df], axis=1)\n",
    "\n",
    "# Handle missing values\n",
    "combined_df = combined_df.dropna()\n",
    "\n",
    "# Display the result\n",
    "combined_df.head()"
   ],
   "id": "efe773e3675e848c"
  },
  {
   "metadata": {},
   "cell_type": "markdown",
   "source": " Additional analysis or visualization (optional)",
   "id": "759143dca9c4e122"
  },
  {
   "metadata": {},
   "cell_type": "code",
   "outputs": [],
   "execution_count": null,
   "source": [
    "# You can add more cells here for further analysis or visualization\n",
    "combined_df.describe()"
   ],
   "id": "bff8c313824b4976"
  }
 ],
 "metadata": {
  "kernelspec": {
   "display_name": "Python 3",
   "language": "python",
   "name": "python3"
  },
  "language_info": {
   "codemirror_mode": {
    "name": "ipython",
    "version": 2
   },
   "file_extension": ".py",
   "mimetype": "text/x-python",
   "name": "python",
   "nbconvert_exporter": "python",
   "pygments_lexer": "ipython2",
   "version": "2.7.6"
  }
 },
 "nbformat": 4,
 "nbformat_minor": 5
}
