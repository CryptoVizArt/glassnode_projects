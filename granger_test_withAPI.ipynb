{
 "cells": [
  {
   "metadata": {},
   "cell_type": "markdown",
   "source": "Import libraries and set up API key",
   "id": "32b3d4bb0b391ac7"
  },
  {
   "metadata": {
    "ExecuteTime": {
     "end_time": "2024-06-29T04:33:28.460384Z",
     "start_time": "2024-06-29T04:33:28.458181Z"
    }
   },
   "cell_type": "code",
   "source": [
    "import json\n",
    "import requests\n",
    "import pandas as pd\n",
    "from datetime import datetime, timedelta\n",
    "\n",
    "# Insert your API key here\n",
    "API_KEY = '2fvIsbHL7chqQIfpyhaUzMwjy'\n",
    "num_data_points = 100\n",
    "start_date_str = '2023-01-01'"
   ],
   "id": "5be5299b4525f88b",
   "outputs": [],
   "execution_count": 25
  },
  {
   "metadata": {},
   "cell_type": "markdown",
   "source": "Get user input",
   "id": "3e10c400f4d65538"
  },
  {
   "metadata": {
    "ExecuteTime": {
     "end_time": "2024-06-29T04:33:28.470835Z",
     "start_time": "2024-06-29T04:33:28.468194Z"
    }
   },
   "cell_type": "code",
   "source": [
    "# Insert your API key here\n",
    "#API_KEY = str(input(\"Insert your API key here\"))\n",
    "#Ask user for input\n",
    "#num_data_points = int(input(\"How many data points do you want to load? \"))\n",
    "#start_date = input(\"Enter the starting date (YYYY-MM-DD): \")\n",
    "\n",
    "# Convert start date to Unix timestamp\n",
    "start_datetime = datetime.strptime(start_date_str, \"%Y-%m-%d\")\n",
    "start_timestamp = int(start_datetime.timestamp())\n",
    "\n",
    "# Calculate end date and convert to Unix timestamp\n",
    "end_datetime = start_datetime + timedelta(days=num_data_points)\n",
    "end_timestamp = int(end_datetime.timestamp())\n",
    "\n",
    "print(f\"Start timestamp: {start_timestamp}\")\n",
    "print(f\"End timestamp: {end_timestamp}\")"
   ],
   "id": "c53b6e303adb118b",
   "outputs": [
    {
     "name": "stdout",
     "output_type": "stream",
     "text": [
      "Start timestamp: 1672543800\n",
      "End timestamp: 1681180200\n"
     ]
    }
   ],
   "execution_count": 26
  },
  {
   "metadata": {},
   "cell_type": "markdown",
   "source": "Define the function to fetch data",
   "id": "1a0db1732d5c0af7"
  },
  {
   "metadata": {
    "ExecuteTime": {
     "end_time": "2024-06-29T04:33:28.483800Z",
     "start_time": "2024-06-29T04:33:28.481387Z"
    }
   },
   "cell_type": "code",
   "source": [
    "def fetch_glassnode_data(endpoint, asset='BTC'):\n",
    "    url = f'https://api.glassnode.com/v1/metrics/{endpoint}'\n",
    "    params = {\n",
    "        'a': asset,\n",
    "        'api_key': API_KEY,\n",
    "        's': start_timestamp,\n",
    "        'u': end_timestamp,\n",
    "        'i': '24h'  # daily interval\n",
    "    }\n",
    "    response = requests.get(url, params=params)\n",
    "    if response.status_code == 200:\n",
    "        df = pd.read_json(response.text, convert_dates=['t'])\n",
    "        column_name = endpoint.split('/')[-1]\n",
    "        df = df.rename(columns={'t': 'timestamp', 'v': column_name})\n",
    "        return df.set_index('timestamp')\n",
    "    else:\n",
    "        print(f\"Error fetching data from {endpoint}: {response.status_code}\")\n",
    "        return pd.DataFrame()"
   ],
   "id": "d943b602825f61b6",
   "outputs": [],
   "execution_count": 27
  },
  {
   "metadata": {},
   "cell_type": "markdown",
   "source": "Fetch price data",
   "id": "2f261dbbd945ddd0"
  },
  {
   "metadata": {
    "ExecuteTime": {
     "end_time": "2024-06-29T04:33:29.185264Z",
     "start_time": "2024-06-29T04:33:28.484887Z"
    }
   },
   "cell_type": "code",
   "source": [
    "# Fetch price data\n",
    "price_df = fetch_glassnode_data('market/price_usd_close')\n",
    "price_df.head()"
   ],
   "id": "388cee6a4a262344",
   "outputs": [
    {
     "name": "stderr",
     "output_type": "stream",
     "text": [
      "/var/folders/kw/s9r1_7lx3zn35g56dhqzfmwh0000gn/T/ipykernel_6628/1178596419.py:12: FutureWarning: Passing literal json to 'read_json' is deprecated and will be removed in a future version. To read from a literal string, wrap it in a 'StringIO' object.\n",
      "  df = pd.read_json(response.text, convert_dates=['t'])\n"
     ]
    },
    {
     "data": {
      "text/plain": [
       "            price_usd_close\n",
       "timestamp                  \n",
       "2023-01-01     16620.819927\n",
       "2023-01-02     16693.930009\n",
       "2023-01-03     16682.715885\n",
       "2023-01-04     16865.159755\n",
       "2023-01-05     16841.821596"
      ],
      "text/html": [
       "<div>\n",
       "<style scoped>\n",
       "    .dataframe tbody tr th:only-of-type {\n",
       "        vertical-align: middle;\n",
       "    }\n",
       "\n",
       "    .dataframe tbody tr th {\n",
       "        vertical-align: top;\n",
       "    }\n",
       "\n",
       "    .dataframe thead th {\n",
       "        text-align: right;\n",
       "    }\n",
       "</style>\n",
       "<table border=\"1\" class=\"dataframe\">\n",
       "  <thead>\n",
       "    <tr style=\"text-align: right;\">\n",
       "      <th></th>\n",
       "      <th>price_usd_close</th>\n",
       "    </tr>\n",
       "    <tr>\n",
       "      <th>timestamp</th>\n",
       "      <th></th>\n",
       "    </tr>\n",
       "  </thead>\n",
       "  <tbody>\n",
       "    <tr>\n",
       "      <th>2023-01-01</th>\n",
       "      <td>16620.819927</td>\n",
       "    </tr>\n",
       "    <tr>\n",
       "      <th>2023-01-02</th>\n",
       "      <td>16693.930009</td>\n",
       "    </tr>\n",
       "    <tr>\n",
       "      <th>2023-01-03</th>\n",
       "      <td>16682.715885</td>\n",
       "    </tr>\n",
       "    <tr>\n",
       "      <th>2023-01-04</th>\n",
       "      <td>16865.159755</td>\n",
       "    </tr>\n",
       "    <tr>\n",
       "      <th>2023-01-05</th>\n",
       "      <td>16841.821596</td>\n",
       "    </tr>\n",
       "  </tbody>\n",
       "</table>\n",
       "</div>"
      ]
     },
     "execution_count": 28,
     "metadata": {},
     "output_type": "execute_result"
    }
   ],
   "execution_count": 28
  },
  {
   "metadata": {},
   "cell_type": "markdown",
   "source": "Define endpoints and fetch feature data",
   "id": "490e1942e20f6495"
  },
  {
   "metadata": {
    "ExecuteTime": {
     "end_time": "2024-06-29T04:33:31.306640Z",
     "start_time": "2024-06-29T04:33:29.186113Z"
    }
   },
   "cell_type": "code",
   "source": [
    "# List of endpoint URLs (add more as needed)\n",
    "endpoints = [\n",
    "    'indicators/sopr',\n",
    "    'indicators/sopr_less_155',\n",
    "    'indicators/sopr_account_based',\n",
    "    'indicators/sopr_adjusted'\n",
    "]\n",
    "\n",
    "# Fetch and combine feature data\n",
    "features_df = pd.DataFrame()\n",
    "for endpoint in endpoints:\n",
    "    df = fetch_glassnode_data(endpoint)\n",
    "    if features_df.empty:\n",
    "        features_df = df\n",
    "    else:\n",
    "        features_df = features_df.join(df, how='outer')\n",
    "\n",
    "features_df.head()"
   ],
   "id": "60f89792afe4bb1c",
   "outputs": [
    {
     "name": "stderr",
     "output_type": "stream",
     "text": [
      "/var/folders/kw/s9r1_7lx3zn35g56dhqzfmwh0000gn/T/ipykernel_6628/1178596419.py:12: FutureWarning: Passing literal json to 'read_json' is deprecated and will be removed in a future version. To read from a literal string, wrap it in a 'StringIO' object.\n",
      "  df = pd.read_json(response.text, convert_dates=['t'])\n",
      "/var/folders/kw/s9r1_7lx3zn35g56dhqzfmwh0000gn/T/ipykernel_6628/1178596419.py:12: FutureWarning: Passing literal json to 'read_json' is deprecated and will be removed in a future version. To read from a literal string, wrap it in a 'StringIO' object.\n",
      "  df = pd.read_json(response.text, convert_dates=['t'])\n",
      "/var/folders/kw/s9r1_7lx3zn35g56dhqzfmwh0000gn/T/ipykernel_6628/1178596419.py:12: FutureWarning: Passing literal json to 'read_json' is deprecated and will be removed in a future version. To read from a literal string, wrap it in a 'StringIO' object.\n",
      "  df = pd.read_json(response.text, convert_dates=['t'])\n",
      "/var/folders/kw/s9r1_7lx3zn35g56dhqzfmwh0000gn/T/ipykernel_6628/1178596419.py:12: FutureWarning: Passing literal json to 'read_json' is deprecated and will be removed in a future version. To read from a literal string, wrap it in a 'StringIO' object.\n",
      "  df = pd.read_json(response.text, convert_dates=['t'])\n"
     ]
    },
    {
     "data": {
      "text/plain": [
       "                sopr  sopr_less_155  sopr_account_based  sopr_adjusted\n",
       "timestamp                                                             \n",
       "2023-01-01  0.993143       0.995300            0.906646       0.982933\n",
       "2023-01-02  0.997344       1.001048            0.913555       0.993102\n",
       "2023-01-03  0.987792       0.995558            0.916211       0.971039\n",
       "2023-01-04  0.985428       0.999432            0.892713       0.968075\n",
       "2023-01-05  0.990950       0.997645            0.963089       0.978652"
      ],
      "text/html": [
       "<div>\n",
       "<style scoped>\n",
       "    .dataframe tbody tr th:only-of-type {\n",
       "        vertical-align: middle;\n",
       "    }\n",
       "\n",
       "    .dataframe tbody tr th {\n",
       "        vertical-align: top;\n",
       "    }\n",
       "\n",
       "    .dataframe thead th {\n",
       "        text-align: right;\n",
       "    }\n",
       "</style>\n",
       "<table border=\"1\" class=\"dataframe\">\n",
       "  <thead>\n",
       "    <tr style=\"text-align: right;\">\n",
       "      <th></th>\n",
       "      <th>sopr</th>\n",
       "      <th>sopr_less_155</th>\n",
       "      <th>sopr_account_based</th>\n",
       "      <th>sopr_adjusted</th>\n",
       "    </tr>\n",
       "    <tr>\n",
       "      <th>timestamp</th>\n",
       "      <th></th>\n",
       "      <th></th>\n",
       "      <th></th>\n",
       "      <th></th>\n",
       "    </tr>\n",
       "  </thead>\n",
       "  <tbody>\n",
       "    <tr>\n",
       "      <th>2023-01-01</th>\n",
       "      <td>0.993143</td>\n",
       "      <td>0.995300</td>\n",
       "      <td>0.906646</td>\n",
       "      <td>0.982933</td>\n",
       "    </tr>\n",
       "    <tr>\n",
       "      <th>2023-01-02</th>\n",
       "      <td>0.997344</td>\n",
       "      <td>1.001048</td>\n",
       "      <td>0.913555</td>\n",
       "      <td>0.993102</td>\n",
       "    </tr>\n",
       "    <tr>\n",
       "      <th>2023-01-03</th>\n",
       "      <td>0.987792</td>\n",
       "      <td>0.995558</td>\n",
       "      <td>0.916211</td>\n",
       "      <td>0.971039</td>\n",
       "    </tr>\n",
       "    <tr>\n",
       "      <th>2023-01-04</th>\n",
       "      <td>0.985428</td>\n",
       "      <td>0.999432</td>\n",
       "      <td>0.892713</td>\n",
       "      <td>0.968075</td>\n",
       "    </tr>\n",
       "    <tr>\n",
       "      <th>2023-01-05</th>\n",
       "      <td>0.990950</td>\n",
       "      <td>0.997645</td>\n",
       "      <td>0.963089</td>\n",
       "      <td>0.978652</td>\n",
       "    </tr>\n",
       "  </tbody>\n",
       "</table>\n",
       "</div>"
      ]
     },
     "execution_count": 29,
     "metadata": {},
     "output_type": "execute_result"
    }
   ],
   "execution_count": 29
  },
  {
   "metadata": {},
   "cell_type": "markdown",
   "source": "Combine data and handle missing values",
   "id": "858b66298c7c0f3c"
  },
  {
   "metadata": {
    "ExecuteTime": {
     "end_time": "2024-06-29T04:33:31.315372Z",
     "start_time": "2024-06-29T04:33:31.308536Z"
    }
   },
   "cell_type": "code",
   "source": [
    "# Concatenate price and features dataframes\n",
    "combined_df = pd.concat([price_df, features_df], axis=1)\n",
    "\n",
    "# Handle missing values\n",
    "combined_df = combined_df.dropna()\n",
    "\n",
    "# Display the result\n",
    "combined_df.head()"
   ],
   "id": "efe773e3675e848c",
   "outputs": [
    {
     "data": {
      "text/plain": [
       "            price_usd_close      sopr  sopr_less_155  sopr_account_based  \\\n",
       "timestamp                                                                  \n",
       "2023-01-01     16620.819927  0.993143       0.995300            0.906646   \n",
       "2023-01-02     16693.930009  0.997344       1.001048            0.913555   \n",
       "2023-01-03     16682.715885  0.987792       0.995558            0.916211   \n",
       "2023-01-04     16865.159755  0.985428       0.999432            0.892713   \n",
       "2023-01-05     16841.821596  0.990950       0.997645            0.963089   \n",
       "\n",
       "            sopr_adjusted  \n",
       "timestamp                  \n",
       "2023-01-01       0.982933  \n",
       "2023-01-02       0.993102  \n",
       "2023-01-03       0.971039  \n",
       "2023-01-04       0.968075  \n",
       "2023-01-05       0.978652  "
      ],
      "text/html": [
       "<div>\n",
       "<style scoped>\n",
       "    .dataframe tbody tr th:only-of-type {\n",
       "        vertical-align: middle;\n",
       "    }\n",
       "\n",
       "    .dataframe tbody tr th {\n",
       "        vertical-align: top;\n",
       "    }\n",
       "\n",
       "    .dataframe thead th {\n",
       "        text-align: right;\n",
       "    }\n",
       "</style>\n",
       "<table border=\"1\" class=\"dataframe\">\n",
       "  <thead>\n",
       "    <tr style=\"text-align: right;\">\n",
       "      <th></th>\n",
       "      <th>price_usd_close</th>\n",
       "      <th>sopr</th>\n",
       "      <th>sopr_less_155</th>\n",
       "      <th>sopr_account_based</th>\n",
       "      <th>sopr_adjusted</th>\n",
       "    </tr>\n",
       "    <tr>\n",
       "      <th>timestamp</th>\n",
       "      <th></th>\n",
       "      <th></th>\n",
       "      <th></th>\n",
       "      <th></th>\n",
       "      <th></th>\n",
       "    </tr>\n",
       "  </thead>\n",
       "  <tbody>\n",
       "    <tr>\n",
       "      <th>2023-01-01</th>\n",
       "      <td>16620.819927</td>\n",
       "      <td>0.993143</td>\n",
       "      <td>0.995300</td>\n",
       "      <td>0.906646</td>\n",
       "      <td>0.982933</td>\n",
       "    </tr>\n",
       "    <tr>\n",
       "      <th>2023-01-02</th>\n",
       "      <td>16693.930009</td>\n",
       "      <td>0.997344</td>\n",
       "      <td>1.001048</td>\n",
       "      <td>0.913555</td>\n",
       "      <td>0.993102</td>\n",
       "    </tr>\n",
       "    <tr>\n",
       "      <th>2023-01-03</th>\n",
       "      <td>16682.715885</td>\n",
       "      <td>0.987792</td>\n",
       "      <td>0.995558</td>\n",
       "      <td>0.916211</td>\n",
       "      <td>0.971039</td>\n",
       "    </tr>\n",
       "    <tr>\n",
       "      <th>2023-01-04</th>\n",
       "      <td>16865.159755</td>\n",
       "      <td>0.985428</td>\n",
       "      <td>0.999432</td>\n",
       "      <td>0.892713</td>\n",
       "      <td>0.968075</td>\n",
       "    </tr>\n",
       "    <tr>\n",
       "      <th>2023-01-05</th>\n",
       "      <td>16841.821596</td>\n",
       "      <td>0.990950</td>\n",
       "      <td>0.997645</td>\n",
       "      <td>0.963089</td>\n",
       "      <td>0.978652</td>\n",
       "    </tr>\n",
       "  </tbody>\n",
       "</table>\n",
       "</div>"
      ]
     },
     "execution_count": 30,
     "metadata": {},
     "output_type": "execute_result"
    }
   ],
   "execution_count": 30
  },
  {
   "metadata": {},
   "cell_type": "markdown",
   "source": " Additional analysis or visualization (optional)",
   "id": "759143dca9c4e122"
  },
  {
   "metadata": {
    "ExecuteTime": {
     "end_time": "2024-06-29T04:33:31.326016Z",
     "start_time": "2024-06-29T04:33:31.316182Z"
    }
   },
   "cell_type": "code",
   "source": [
    "# You can add more cells here for further analysis or visualization\n",
    "combined_df.describe()"
   ],
   "id": "bff8c313824b4976",
   "outputs": [
    {
     "data": {
      "text/plain": [
       "       price_usd_close        sopr  sopr_less_155  sopr_account_based  \\\n",
       "count       100.000000  100.000000     100.000000          100.000000   \n",
       "mean      23415.304798    1.000595       1.016027            1.009464   \n",
       "std        3353.406517    0.016398       0.018120            0.052797   \n",
       "min       16620.819927    0.880878       0.961018            0.883769   \n",
       "25%       21804.378982    0.996025       1.003279            0.970866   \n",
       "50%       23164.313442    1.003370       1.016252            1.018884   \n",
       "75%       25526.203345    1.009071       1.027639            1.041921   \n",
       "max       29628.544376    1.029593       1.076041            1.109142   \n",
       "\n",
       "       sopr_adjusted  \n",
       "count     100.000000  \n",
       "mean        1.002454  \n",
       "std         0.035659  \n",
       "min         0.766452  \n",
       "25%         0.990014  \n",
       "50%         1.009144  \n",
       "75%         1.019797  \n",
       "max         1.070677  "
      ],
      "text/html": [
       "<div>\n",
       "<style scoped>\n",
       "    .dataframe tbody tr th:only-of-type {\n",
       "        vertical-align: middle;\n",
       "    }\n",
       "\n",
       "    .dataframe tbody tr th {\n",
       "        vertical-align: top;\n",
       "    }\n",
       "\n",
       "    .dataframe thead th {\n",
       "        text-align: right;\n",
       "    }\n",
       "</style>\n",
       "<table border=\"1\" class=\"dataframe\">\n",
       "  <thead>\n",
       "    <tr style=\"text-align: right;\">\n",
       "      <th></th>\n",
       "      <th>price_usd_close</th>\n",
       "      <th>sopr</th>\n",
       "      <th>sopr_less_155</th>\n",
       "      <th>sopr_account_based</th>\n",
       "      <th>sopr_adjusted</th>\n",
       "    </tr>\n",
       "  </thead>\n",
       "  <tbody>\n",
       "    <tr>\n",
       "      <th>count</th>\n",
       "      <td>100.000000</td>\n",
       "      <td>100.000000</td>\n",
       "      <td>100.000000</td>\n",
       "      <td>100.000000</td>\n",
       "      <td>100.000000</td>\n",
       "    </tr>\n",
       "    <tr>\n",
       "      <th>mean</th>\n",
       "      <td>23415.304798</td>\n",
       "      <td>1.000595</td>\n",
       "      <td>1.016027</td>\n",
       "      <td>1.009464</td>\n",
       "      <td>1.002454</td>\n",
       "    </tr>\n",
       "    <tr>\n",
       "      <th>std</th>\n",
       "      <td>3353.406517</td>\n",
       "      <td>0.016398</td>\n",
       "      <td>0.018120</td>\n",
       "      <td>0.052797</td>\n",
       "      <td>0.035659</td>\n",
       "    </tr>\n",
       "    <tr>\n",
       "      <th>min</th>\n",
       "      <td>16620.819927</td>\n",
       "      <td>0.880878</td>\n",
       "      <td>0.961018</td>\n",
       "      <td>0.883769</td>\n",
       "      <td>0.766452</td>\n",
       "    </tr>\n",
       "    <tr>\n",
       "      <th>25%</th>\n",
       "      <td>21804.378982</td>\n",
       "      <td>0.996025</td>\n",
       "      <td>1.003279</td>\n",
       "      <td>0.970866</td>\n",
       "      <td>0.990014</td>\n",
       "    </tr>\n",
       "    <tr>\n",
       "      <th>50%</th>\n",
       "      <td>23164.313442</td>\n",
       "      <td>1.003370</td>\n",
       "      <td>1.016252</td>\n",
       "      <td>1.018884</td>\n",
       "      <td>1.009144</td>\n",
       "    </tr>\n",
       "    <tr>\n",
       "      <th>75%</th>\n",
       "      <td>25526.203345</td>\n",
       "      <td>1.009071</td>\n",
       "      <td>1.027639</td>\n",
       "      <td>1.041921</td>\n",
       "      <td>1.019797</td>\n",
       "    </tr>\n",
       "    <tr>\n",
       "      <th>max</th>\n",
       "      <td>29628.544376</td>\n",
       "      <td>1.029593</td>\n",
       "      <td>1.076041</td>\n",
       "      <td>1.109142</td>\n",
       "      <td>1.070677</td>\n",
       "    </tr>\n",
       "  </tbody>\n",
       "</table>\n",
       "</div>"
      ]
     },
     "execution_count": 31,
     "metadata": {},
     "output_type": "execute_result"
    }
   ],
   "execution_count": 31
  },
  {
   "metadata": {
    "ExecuteTime": {
     "end_time": "2024-06-29T04:33:31.328855Z",
     "start_time": "2024-06-29T04:33:31.327076Z"
    }
   },
   "cell_type": "code",
   "source": "",
   "id": "e6f17fcebc1240e",
   "outputs": [],
   "execution_count": 31
  }
 ],
 "metadata": {
  "kernelspec": {
   "display_name": "Python 3",
   "language": "python",
   "name": "python3"
  },
  "language_info": {
   "codemirror_mode": {
    "name": "ipython",
    "version": 2
   },
   "file_extension": ".py",
   "mimetype": "text/x-python",
   "name": "python",
   "nbconvert_exporter": "python",
   "pygments_lexer": "ipython2",
   "version": "2.7.6"
  }
 },
 "nbformat": 4,
 "nbformat_minor": 5
}
